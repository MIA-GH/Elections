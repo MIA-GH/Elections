{
 "cells": [
  {
   "cell_type": "code",
   "execution_count": 5,
   "metadata": {
    "collapsed": true
   },
   "outputs": [],
   "source": [
    "import pandas as pd\n"
   ]
  },
  {
   "cell_type": "code",
   "execution_count": 6,
   "outputs": [
    {
     "data": {
      "text/plain": "     Tweet Date             Tweet ID  \\\n0     2020/9/30  1311360988336271367   \n1     2020/9/30  1311320554658566144   \n2     2020/9/30  1311259561907585025   \n3     2020/9/29  1310957690173169664   \n4     2020/9/29  1310912293358706690   \n...         ...                  ...   \n8106  2020/9/27  1310190479930253313   \n8107  2020/9/27  1310187481481052162   \n8108  2020/9/27  1310142166837194753   \n8109  2020/9/26  1309915726921314304   \n8110  2020/9/26  1309870448482693120   \n\n                                             Tweet Text    tweet_source  \\\n0     #GoodHealthForAll \\n#4MoreForNana https://t.co...  Hootsuite Inc.   \n1     #GoodHealthForAll \\n#4MoreForNana https://t.co...  Hootsuite Inc.   \n2     #GoodHealthForAll \\n#4MoreForNana https://t.co...  Hootsuite Inc.   \n3                 #4MoreForNana https://t.co/nMsTcfrd1L  Hootsuite Inc.   \n4     #GoodHealthForAll \\n#4MoreForNana https://t.co...  Hootsuite Inc.   \n...                                                 ...             ...   \n8106  During the COVID-19 pandemic, Government absor...  Hootsuite Inc.   \n8107  With 4 more years, we can do more for you. #NP...  Hootsuite Inc.   \n8108  Give us 4 more years to do more for you. #NPPo...  Hootsuite Inc.   \n8109  #NPPonAgriculture \\n#4MoreForNana https://t.co...  Hootsuite Inc.   \n8110  #NPPonAgriculture \\n#4MoreForNana https://t.co...  Hootsuite Inc.   \n\n     tweet_retweet_count tweet_favorite_count  \n0                    112                  838  \n1                    133                 1046  \n2                    165                 1286  \n3                    333                 2562  \n4                    203                 1459  \n...                  ...                  ...  \n8106                 241                 1686  \n8107                 231                 1467  \n8108                 398                 2980  \n8109                 162                 1272  \n8110                 161                 1082  \n\n[8111 rows x 6 columns]",
      "text/html": "<div>\n<style scoped>\n    .dataframe tbody tr th:only-of-type {\n        vertical-align: middle;\n    }\n\n    .dataframe tbody tr th {\n        vertical-align: top;\n    }\n\n    .dataframe thead th {\n        text-align: right;\n    }\n</style>\n<table border=\"1\" class=\"dataframe\">\n  <thead>\n    <tr style=\"text-align: right;\">\n      <th></th>\n      <th>Tweet Date</th>\n      <th>Tweet ID</th>\n      <th>Tweet Text</th>\n      <th>tweet_source</th>\n      <th>tweet_retweet_count</th>\n      <th>tweet_favorite_count</th>\n    </tr>\n  </thead>\n  <tbody>\n    <tr>\n      <th>0</th>\n      <td>2020/9/30</td>\n      <td>1311360988336271367</td>\n      <td>#GoodHealthForAll \\n#4MoreForNana https://t.co...</td>\n      <td>Hootsuite Inc.</td>\n      <td>112</td>\n      <td>838</td>\n    </tr>\n    <tr>\n      <th>1</th>\n      <td>2020/9/30</td>\n      <td>1311320554658566144</td>\n      <td>#GoodHealthForAll \\n#4MoreForNana https://t.co...</td>\n      <td>Hootsuite Inc.</td>\n      <td>133</td>\n      <td>1046</td>\n    </tr>\n    <tr>\n      <th>2</th>\n      <td>2020/9/30</td>\n      <td>1311259561907585025</td>\n      <td>#GoodHealthForAll \\n#4MoreForNana https://t.co...</td>\n      <td>Hootsuite Inc.</td>\n      <td>165</td>\n      <td>1286</td>\n    </tr>\n    <tr>\n      <th>3</th>\n      <td>2020/9/29</td>\n      <td>1310957690173169664</td>\n      <td>#4MoreForNana https://t.co/nMsTcfrd1L</td>\n      <td>Hootsuite Inc.</td>\n      <td>333</td>\n      <td>2562</td>\n    </tr>\n    <tr>\n      <th>4</th>\n      <td>2020/9/29</td>\n      <td>1310912293358706690</td>\n      <td>#GoodHealthForAll \\n#4MoreForNana https://t.co...</td>\n      <td>Hootsuite Inc.</td>\n      <td>203</td>\n      <td>1459</td>\n    </tr>\n    <tr>\n      <th>...</th>\n      <td>...</td>\n      <td>...</td>\n      <td>...</td>\n      <td>...</td>\n      <td>...</td>\n      <td>...</td>\n    </tr>\n    <tr>\n      <th>8106</th>\n      <td>2020/9/27</td>\n      <td>1310190479930253313</td>\n      <td>During the COVID-19 pandemic, Government absor...</td>\n      <td>Hootsuite Inc.</td>\n      <td>241</td>\n      <td>1686</td>\n    </tr>\n    <tr>\n      <th>8107</th>\n      <td>2020/9/27</td>\n      <td>1310187481481052162</td>\n      <td>With 4 more years, we can do more for you. #NP...</td>\n      <td>Hootsuite Inc.</td>\n      <td>231</td>\n      <td>1467</td>\n    </tr>\n    <tr>\n      <th>8108</th>\n      <td>2020/9/27</td>\n      <td>1310142166837194753</td>\n      <td>Give us 4 more years to do more for you. #NPPo...</td>\n      <td>Hootsuite Inc.</td>\n      <td>398</td>\n      <td>2980</td>\n    </tr>\n    <tr>\n      <th>8109</th>\n      <td>2020/9/26</td>\n      <td>1309915726921314304</td>\n      <td>#NPPonAgriculture \\n#4MoreForNana https://t.co...</td>\n      <td>Hootsuite Inc.</td>\n      <td>162</td>\n      <td>1272</td>\n    </tr>\n    <tr>\n      <th>8110</th>\n      <td>2020/9/26</td>\n      <td>1309870448482693120</td>\n      <td>#NPPonAgriculture \\n#4MoreForNana https://t.co...</td>\n      <td>Hootsuite Inc.</td>\n      <td>161</td>\n      <td>1082</td>\n    </tr>\n  </tbody>\n</table>\n<p>8111 rows × 6 columns</p>\n</div>"
     },
     "execution_count": 6,
     "metadata": {},
     "output_type": "execute_result"
    }
   ],
   "source": [
    "dat = pd.read_csv('tweets.csv')\n",
    "dat"
   ],
   "metadata": {
    "collapsed": false,
    "pycharm": {
     "name": "#%%\n"
    }
   }
  },
  {
   "cell_type": "code",
   "execution_count": null,
   "outputs": [],
   "source": [],
   "metadata": {
    "collapsed": false,
    "pycharm": {
     "name": "#%%\n"
    }
   }
  }
 ],
 "metadata": {
  "kernelspec": {
   "display_name": "Python 3",
   "language": "python",
   "name": "python3"
  },
  "language_info": {
   "codemirror_mode": {
    "name": "ipython",
    "version": 2
   },
   "file_extension": ".py",
   "mimetype": "text/x-python",
   "name": "python",
   "nbconvert_exporter": "python",
   "pygments_lexer": "ipython2",
   "version": "2.7.6"
  }
 },
 "nbformat": 4,
 "nbformat_minor": 0
}